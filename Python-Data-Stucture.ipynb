{
 "cells": [
  {
   "cell_type": "markdown",
   "metadata": {},
   "source": [
    "# 1. String\n",
    "array of chars: immutable"
   ]
  },
  {
   "cell_type": "code",
   "execution_count": 1,
   "metadata": {},
   "outputs": [],
   "source": [
    "myString = \"abc\"\n",
    "myString = \"a\\\"b\\\"c\" # a\"b\"c\n",
    "myString = \"{x} {y} {z}\".format(x = \"a\", y = \"b\", z = \"c\") # or use {0} {1} {2}\n",
    "myString = \"{0:b}, {1:e}, {2:.2f}\".format(1,2,3.444) # binary, exponent, digits\n",
    "myString = \"|{:<10}|{:^10}|{:>10}|\".format(\"a\", \"b\", \"c\") # left, center, right alignment\n",
    "myString = \"-\".join([\"a\", \"b\", \"c\"]) # a-b-c"
   ]
  },
  {
   "cell_type": "markdown",
   "metadata": {},
   "source": [
    "# 2. List\n",
    "array of objects: mutable\n",
    "\n",
    "dynamic array = static array with $2^k$ capacity\n",
    "\n",
    "| Time Comp | List |\n",
    "| :- | :-: |\n",
    "| Access | O(1) |\n",
    "| Search | O(n) |\n",
    "| Insert/Delete | **O(n)** |\n",
    "| Insert/Delete at end | **O(1)** |\n",
    "| Sort | **O(n log n)** |"
   ]
  },
  {
   "cell_type": "code",
   "execution_count": 25,
   "metadata": {},
   "outputs": [],
   "source": [
    "# Basic commands\n",
    "myList = [\"a\", \"b\", \"c\"]\n",
    "idx = myList.index(\"c\") # index of first item == x\n",
    "count = myList.count(\"a\") # number of item == x\n",
    "\n",
    "myList.insert(1, \"aa\") # insert(idx, item)\n",
    "myList.append(\"d\") # add an item to the end\n",
    "myList.extend([\"e\", \"f\"]) # append all items, same as \"+\"\n",
    "\n",
    "myList.remove(\"aa\") # remove first item == x\n",
    "x = myList.pop() # pop last, can also pop(idx)\n",
    "del myList[-1] # myList.clear()\n",
    "\n",
    "myList.reverse() # reversed(myList)\n",
    "myList.sort() # default reverse=False, sorted(myList)\n",
    "myList2 = myList.copy()\n",
    "\n",
    "for idx, value in enumerate(myList): i = idx; v = value\n",
    "for v1, v2 in zip(myList, myList2): x = v1; y = v2\n",
    "[(x, y) for x in [1,2,3] for y in [3,1,4] if x != y]; # List comprehension"
   ]
  },
  {
   "cell_type": "markdown",
   "metadata": {},
   "source": [
    "## 2.1 Binary Search Tree\n",
    "left subtree ele < curr ele < right subtree ele\n",
    "\n",
    "| Time Comp | BST-Avg | BST-Worst | Operation |\n",
    "| :- | :-: | :-: | :-: |\n",
    "| Search | O(log n) | O(n) | start from root, then sink down |\n",
    "| Insert | O(log n) | O(n) | start from root, then sink down |\n",
    "| Delete | O(log n) | O(n) | search element, then replace value with its successor <br> (largest in left subtree or smallest in right subtree) <br> and remove the successor node |\n",
    "\n",
    "Traversal: \n",
    "- DFS (stack): preorder, **inorder (print ascendingly)**; postorder\n",
    "- BFS (queue): level order\n",
    "\n",
    "### 2.1.1. Balanced Binary Search Tree\n",
    "Tree rotation: Reduce wrost case time complexity to O(n)"
   ]
  },
  {
   "cell_type": "markdown",
   "metadata": {},
   "source": [
    "## 2.2 Binary Index Tree (Fenwick Tree)\n",
    "**1-based index:** least significant bit (LSB) determines the range of responsibility\n",
    "\n",
    "LSB(i) = i & -i\n",
    "\n",
    "| Time Comp | BIT-Avg | Operation |\n",
    "| :- | :-: | :-: |\n",
    "| Constuction | O(n) | in place, update **immediate** parent at i + LSB(i) |\n",
    "| Element Update | O(log n) | update values at **i + LSB(i)** until n |\n",
    "| Range Sum | O(log n) | sum values at **i - LSB(i)** until 0 |\n",
    "| Insert/Delete | **not allowed** |"
   ]
  },
  {
   "cell_type": "markdown",
   "metadata": {},
   "source": [
    "## 2.2 Min Heap / Priority Queue\n",
    "\n",
    "**Complete** binary tree with height = O(log n)\n",
    "\n",
    "$\\text{A[i] has}\n",
    "\\begin{cases}\n",
    "    \\text{children at A[2i+1] and A[2i+2]}\\\\\n",
    "    \\text{parent at A[(i-1)//2]}\n",
    "\\end{cases}$\n",
    "\n",
    "| Time Complexity | Heap | Operation |\n",
    "| :- | :-: | :-: |\n",
    "| Push | O(log n) | append at end, then bubble up |\n",
    "| Pop/Poll | O(log n) | repace with the last element, then sink down |\n",
    "| Delete | O(n) | linear search, then replace with the last element and sink down |\n",
    "| Delete with Hashtable | **O(log n)** | skip linear search skip using Hashtable{value: positions} |\n",
    "| Heapsort | O(n log n) | push all, then pop all |\n",
    "| Heapify | **O(n)** | uild tree upwards, swap with children on the way |"
   ]
  },
  {
   "cell_type": "code",
   "execution_count": 121,
   "metadata": {},
   "outputs": [],
   "source": [
    "import heapq\n",
    "myQueue = [(1, \"a\"), (2, \"b\")]\n",
    "heapq.heapify(myQueue) # O(n)\n",
    "heapq.heappush(myQueue, (3, \"c\")); heapq.heappush(myQueue, (2, \"b\"))\n",
    "x = heapq.heappop(myQueue) # pop the smallest item\n",
    "x = heapq.heappushpop(myQueue, (0, \"a\")) # pop and push simultaneously\n",
    "x = heapq.heapreplace(myQueue, (0, \"a\")) # pop, then push\n",
    "nsmall = heapq.nsmallest(2, myQueue) # find the k smallest\n",
    "nlarge = heapq.nlargest(2, myQueue) # find the k largest, O(k log n)\n",
    "myQueue = heapq.merge(myQueue, [(4, \"d\"), (5, \"e\")])\n",
    "\n",
    "from queue import PriorityQueue\n",
    "myQueue = PriorityQueue()\n",
    "myQueue.put((1, \"a\")); queue.put((2, \"b\"))\n",
    "x = myQueue.get()\n",
    "flag = myQueue.empty(); # check if queue is empty"
   ]
  },
  {
   "cell_type": "markdown",
   "metadata": {},
   "source": [
    "### 2.2.1 Index Prioirty Queue"
   ]
  },
  {
   "cell_type": "markdown",
   "metadata": {},
   "source": [
    "## 2.2 Union Find\n",
    "Array with idx = ele and value = parent's idx\n",
    "\n",
    "**Root node:** If idx == parent's idx, then idx is the group\n",
    "\n",
    "Constrcution:\n",
    "- Hashtable{ele:idx} # a bijection mapping\n",
    "- Initial: Array[idx] = idx # every node is a root having its own group\n",
    "\n",
    "| Time Comp | Union Find | Operation |\n",
    "| :- | :-: | :-: |\n",
    "| Construction | O(n) | Array[idx] = idx |\n",
    "| Union | $\\alpha$(n) | Find roots and set Array[root2] = root1 |\n",
    "| Find | $\\alpha$(n) | look for parent until root |\n",
    "| Group size | $\\alpha$(n) | record size at root, update when union |\n",
    "| Check connected | $\\alpha$(n) | find(idx1) == find(idx2) |\n",
    "\n",
    "**Path compression:** when finding root, if not direct child of root, compress all the way\n",
    "\n",
    "Kruskal's Minimum Spanning Tree: union vertices based on ascending edge values"
   ]
  },
  {
   "cell_type": "markdown",
   "metadata": {},
   "source": [
    "# 3. Linked List\n",
    "Single Linked List: 1 --> 2 --> 3\n",
    "\n",
    "Doubly Linked List: 1 <--> 2 <--> 3\n",
    "\n",
    "\n",
    "| Time Comp | Singly Linked | Doubly Linked |\n",
    "| :- | :-: | :-: |\n",
    "| Accesss/Search | O(n) | O(n) |\n",
    "| **Insert/Delete at head** | **O(1)** | **O(1)** |\n",
    "| Insert at tail | O(1) | O(1) |\n",
    "| **Delete at tail** | **O(n)** | **O(1)** |\n",
    "| Insert/Delete at middle | O(n) | O(n) |"
   ]
  },
  {
   "cell_type": "code",
   "execution_count": 19,
   "metadata": {},
   "outputs": [],
   "source": [
    "# Singly Linked List\n",
    "class ListNode:\n",
    "    def __init__(self, val=0, next=None):\n",
    "        self.val = val\n",
    "        self.next = next\n",
    "# 1 -> 2 -> 3\n",
    "head = ListNode(1); curr = head\n",
    "curr.next = ListNode(2); curr = curr.next\n",
    "curr.next = ListNode(3); curr = curr.next\n",
    "tail = curr\n",
    "\n",
    "# reverse singly linked list\n",
    "dummyHead = ListNode(None); dummyHead.next = head\n",
    "\n",
    "prev = dummyHead; curr = head # None(prev) -> 1(curr) -> 2(temp) -> 3\n",
    "while curr != None:\n",
    "    temp = curr.next # store curr.next\n",
    "    curr.next = prev # reverse link: None(prev) <- 1(curr)\n",
    "    prev, curr = curr, temp # move on: ... <- 1(prev)  2(curr) -> ...\n",
    "tail = head; tail.next = None # reset tail\n",
    "head = prev # reset head"
   ]
  },
  {
   "cell_type": "markdown",
   "metadata": {},
   "source": [
    "## 2.1 Stack\n",
    "Last-in First-out (LIFO)\n",
    "\n",
    "Random access: List with **push and pop at end**\n",
    "\n",
    "Sequential access: Singly Linked List with **push and pop at head**"
   ]
  },
  {
   "cell_type": "markdown",
   "metadata": {},
   "source": [
    "## 2.2 Queue\n",
    "First-in First-out (FIFO)\n",
    "\n",
    "Sequential access: Singly Linked List with **dequeue at head** and **enqueue at tail**"
   ]
  },
  {
   "cell_type": "code",
   "execution_count": 20,
   "metadata": {},
   "outputs": [],
   "source": [
    "# Use collection.deque (double-ended queue)\n",
    "from collections import deque\n",
    "myQueue = deque([1,2,3])\n",
    "myQueue.append(4); myQueue.appendleft(4)\n",
    "x = myQueue.pop(); x = myQueue.popleft()\n",
    "myQueue.rotate(-1) # rotates by 1 to left"
   ]
  },
  {
   "cell_type": "markdown",
   "metadata": {},
   "source": [
    "# 3. Tuple\n",
    "ordered, immutable"
   ]
  },
  {
   "cell_type": "code",
   "execution_count": 129,
   "metadata": {},
   "outputs": [],
   "source": [
    "myTuple = (1, 2)\n",
    "myTuple += (3, 4) # extend"
   ]
  },
  {
   "cell_type": "markdown",
   "metadata": {},
   "source": [
    "# 4. Set\n",
    "unordered, no duplicate immutable elements, mutable\n",
    "\n",
    "Time Complexity:\n",
    "- in: O(1)"
   ]
  },
  {
   "cell_type": "code",
   "execution_count": 138,
   "metadata": {},
   "outputs": [],
   "source": [
    "mySet = {\"a\", \"a\", \"b\"}\n",
    "mySet.add(\"c\"); mySet.update([\"d\", \"e\"]) # add more elements\n",
    "mySet.remove(\"a\"); mySet.discard(\"a\") # no KeyError for discard"
   ]
  },
  {
   "cell_type": "markdown",
   "metadata": {},
   "source": [
    "# 5. Dict\n",
    "**Hashtable** is an array and data is stored at **Array[H(key)]**, key must be immutable/hashable\n",
    "- Hash collision: closed addressing (linked list), **open addressing** (probing, but could stuck in looping)\n",
    "- Re-hash all when expand capacity\n",
    "\n",
    "\n",
    "| Time Comp | Hashtable-Avg |\n",
    "| :- | :-: |\n",
    "| Access | O(1) |\n",
    "| **Contain key** | **O(1)** |\n",
    "| Insert/Delete | O(1) |"
   ]
  },
  {
   "cell_type": "code",
   "execution_count": 32,
   "metadata": {},
   "outputs": [],
   "source": [
    "myDict = {\"a\": 1, \"b\": 2, \"c\": 3}\n",
    "\"a\" in myDict # contain key\n",
    "1 in myDict.values() # contain value\n",
    "\n",
    "myDict.pop(\"a\") # pop value\n",
    "del myDict[\"b\"]\n",
    "\n",
    "list(myDict) # return all keys, or myDict.keys()\n",
    "sorted(myDict) # return all sorted keys\n",
    "for key, value in myDict.items(): pass"
   ]
  },
  {
   "cell_type": "markdown",
   "metadata": {},
   "source": [
    "## 5.1 Ordered Dict\n",
    "preserves the order in which the keys are inserted\n",
    "\n",
    "value change does not effect key orders"
   ]
  },
  {
   "cell_type": "code",
   "execution_count": 171,
   "metadata": {},
   "outputs": [
    {
     "data": {
      "text/plain": [
       "1"
      ]
     },
     "execution_count": 171,
     "metadata": {},
     "output_type": "execute_result"
    }
   ],
   "source": [
    "from collections import OrderedDict\n",
    "myOD = OrderedDict({\"a\": 1, \"b\": 2, \"c\": 3})"
   ]
  },
  {
   "cell_type": "markdown",
   "metadata": {},
   "source": [
    "# 6. Other"
   ]
  },
  {
   "cell_type": "code",
   "execution_count": 22,
   "metadata": {},
   "outputs": [],
   "source": [
    "# Counter\n",
    "from collections import Counter \n",
    "c1 = Counter([\"a\", \"a\", \"b\"])\n",
    "c2 = Counter({\"a\": 5, \"b\": 2, \"c\":4})\n",
    "c3 = Counter(a = 2, b = 1)\n",
    "\n",
    "c1.subtract(c2)"
   ]
  }
 ],
 "metadata": {
  "kernelspec": {
   "display_name": "Python 3",
   "language": "python",
   "name": "python3"
  },
  "language_info": {
   "codemirror_mode": {
    "name": "ipython",
    "version": 3
   },
   "file_extension": ".py",
   "mimetype": "text/x-python",
   "name": "python",
   "nbconvert_exporter": "python",
   "pygments_lexer": "ipython3",
   "version": "3.8.5"
  }
 },
 "nbformat": 4,
 "nbformat_minor": 4
}
