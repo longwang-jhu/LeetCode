{
 "cells": [
  {
   "cell_type": "markdown",
   "metadata": {},
   "source": [
    "# DFS"
   ]
  },
  {
   "cell_type": "code",
   "execution_count": 17,
   "metadata": {},
   "outputs": [
    {
     "name": "stdout",
     "output_type": "stream",
     "text": [
      "['000', '001', '010', '011', '100', '101', '110', '111']\n"
     ]
    }
   ],
   "source": [
    "def dfs(n):\n",
    "    if n == 3:\n",
    "        res.append(\"\".join(path)) # exit case\n",
    "        return\n",
    "    else:\n",
    "        for idx in range(2): # for all children\n",
    "            path.append(str(idx)) # record path\n",
    "            dfs(n + 1)\n",
    "            path.pop() # go back\n",
    "\n",
    "res, path = [], []; dfs(0); print(res)"
   ]
  },
  {
   "cell_type": "markdown",
   "metadata": {},
   "source": [
    "# BFS"
   ]
  },
  {
   "cell_type": "code",
   "execution_count": 1,
   "metadata": {},
   "outputs": [
    {
     "name": "stdout",
     "output_type": "stream",
     "text": [
      "['*000', '*001', '*010', '*011', '*100', '*101', '*110', '*111']\n"
     ]
    }
   ],
   "source": [
    "def bfs(n):\n",
    "    if n == 3: return\n",
    "    else:\n",
    "        new_res = []\n",
    "        for ele in res:\n",
    "            for idx in range(2):\n",
    "                new_res.append(ele + str(idx)) # modify the result\n",
    "        res.clear(); res.extend(new_res)\n",
    "        bfs(n + 1)\n",
    "\n",
    "res = [\"*\"]; bfs(0); print(res)"
   ]
  }
 ],
 "metadata": {
  "kernelspec": {
   "display_name": "Python 3",
   "language": "python",
   "name": "python3"
  },
  "language_info": {
   "codemirror_mode": {
    "name": "ipython",
    "version": 3
   },
   "file_extension": ".py",
   "mimetype": "text/x-python",
   "name": "python",
   "nbconvert_exporter": "python",
   "pygments_lexer": "ipython3",
   "version": "3.8.5"
  }
 },
 "nbformat": 4,
 "nbformat_minor": 4
}
