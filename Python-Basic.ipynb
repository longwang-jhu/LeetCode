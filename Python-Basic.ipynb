{
 "cells": [
  {
   "cell_type": "markdown",
   "metadata": {},
   "source": [
    "# 0. Basic"
   ]
  },
  {
   "cell_type": "code",
   "execution_count": 25,
   "metadata": {},
   "outputs": [],
   "source": [
    "# Keywords\n",
    "True; False # boolean\n",
    "None # denote a null value or a void\n",
    "x = 1; del x;"
   ]
  },
  {
   "cell_type": "code",
   "execution_count": 55,
   "metadata": {},
   "outputs": [
    {
     "name": "stdout",
     "output_type": "stream",
     "text": [
      "True\n"
     ]
    }
   ],
   "source": [
    "# Operators\n",
    "## Arithmetic\n",
    "1 / 2 # division (float)\n",
    "1 // 2 # division (floor)\n",
    "1 % 2 # modulus\n",
    "1 **2 # power\n",
    "## Relational\n",
    "1 != 2 # not equal to\n",
    "# Logical (precedence: not > and > or)\n",
    "not True # invert True or False\n",
    "3 and 10 # and: return the first False value, otherwise the last value\n",
    "3 or 10 # or: return the first True value, otherwise the last value\n",
    "any([True, False, False])\n",
    "all([True, False, False])\n",
    "# Bitwise\n",
    "1 & 2; 1 | 2; ~1; 1 ^ 2; 1 >> 2; 1 << 2;\n",
    "# Special\n",
    "x = y = [1]; x is y; x is not y;\n",
    "1 in [1,2]; 1 not in [1,2];"
   ]
  },
  {
   "cell_type": "code",
   "execution_count": 53,
   "metadata": {},
   "outputs": [
    {
     "data": {
      "text/plain": [
       "True"
      ]
     },
     "execution_count": 53,
     "metadata": {},
     "output_type": "execute_result"
    }
   ],
   "source": [
    "2.0==2"
   ]
  },
  {
   "cell_type": "code",
   "execution_count": 30,
   "metadata": {},
   "outputs": [],
   "source": [
    "# Debugging\n",
    "assert True, \"Error\" # raise AssertionError\n",
    "# raise ValueError # raise Error or Exception"
   ]
  },
  {
   "cell_type": "markdown",
   "metadata": {},
   "source": [
    "# 1. Flow Control"
   ]
  },
  {
   "cell_type": "code",
   "execution_count": 72,
   "metadata": {},
   "outputs": [],
   "source": [
    "# if else\n",
    "if 1 < 2 < 3: pass\n",
    "elif 1 > 2 < 3: pass\n",
    "else: pass\n",
    "\n",
    "x = 1 if True else 0"
   ]
  },
  {
   "cell_type": "code",
   "execution_count": 78,
   "metadata": {},
   "outputs": [],
   "source": [
    "for i in range(1, 9, 2): # 1, 3, 5, 7\n",
    "    continue; break\n",
    "else:\n",
    "    pass # executed when no break"
   ]
  },
  {
   "cell_type": "code",
   "execution_count": 85,
   "metadata": {},
   "outputs": [],
   "source": [
    "while True: break\n",
    "else: pass"
   ]
  },
  {
   "cell_type": "markdown",
   "metadata": {},
   "source": [
    "# 2. Funciton"
   ]
  },
  {
   "cell_type": "code",
   "execution_count": 103,
   "metadata": {},
   "outputs": [],
   "source": [
    "# *argv and **kwargs\n",
    "def f(x, *argv, y = 1, **kwargs):\n",
    "    \"\"\"description\"\"\" # f.__doc__\n",
    "    for arg in argv: pass\n",
    "    for key, value in kwargs.items(): pass\n",
    "    return\n",
    "\n",
    "def f(x,y,z): return\n",
    "args = (1,2,3); f(*args)\n",
    "kwargs = {\"x\":1, \"y\":2, \"z\":3}; f(**kwargs)"
   ]
  },
  {
   "cell_type": "code",
   "execution_count": null,
   "metadata": {},
   "outputs": [],
   "source": [
    "# yield\n",
    "def generator():\n",
    "    yield 1; yield 2; yield 3 # next executrion resumes from last yield\n",
    "for value in generator():\n",
    "    i # 1, 2, 3"
   ]
  },
  {
   "cell_type": "code",
   "execution_count": 111,
   "metadata": {},
   "outputs": [],
   "source": [
    "# lambda\n",
    "f = lambda x, y: x + y\n",
    "def power(n):\n",
    "    return lambda a: a** n\n",
    "\n",
    "x = [1, 2, 3, 4]\n",
    "list(filter(lambda x: x % 2 == 0, x)) # even numbers\n",
    "list(map(lambda x: x % 2 == 0, x)); # [False, True, False, True]"
   ]
  },
  {
   "cell_type": "code",
   "execution_count": 124,
   "metadata": {},
   "outputs": [],
   "source": [
    "# decorator\n",
    "def myDecorator(func):\n",
    "    def inner(*args, **kwargs):\n",
    "        # add decorations here\n",
    "        res = func(*args, **kwargs)\n",
    "        return res\n",
    "    return inner\n",
    "\n",
    "@myDecorator\n",
    "def f(x): return x ** 2\n",
    "\n",
    "# memoization using decorator\n",
    "def memo_factorial(func):\n",
    "    memo = {}\n",
    "    def inner(n):\n",
    "        if n not in memo: memo[n] = f(n) # add to memo\n",
    "        return memo[n]\n",
    "    return inner\n",
    "\n",
    "@memo_factorial\n",
    "def factorial(n):\n",
    "    if num == 1: return 1\n",
    "    else: return n * factorial(n-1)"
   ]
  },
  {
   "cell_type": "markdown",
   "metadata": {},
   "source": [
    "# 3. Class"
   ]
  },
  {
   "cell_type": "code",
   "execution_count": 133,
   "metadata": {},
   "outputs": [],
   "source": [
    "class myClass:\n",
    "    def __init__(self, x, y):\n",
    "        self.x = x\n",
    "        self.__y = y # private only for myClass\n",
    "    def __str__(self): pass # for print()\n",
    "    def __add__(self, other): pass # __gt__, __lt__, __eq__, __del__, ...\n",
    "    def func(self): pass\n",
    "    \n",
    "    var = \"class variable\"\n",
    "    @staticmethod\n",
    "    def staticFunc(): pass\n",
    "    @classmethod\n",
    "    def classFunc(cls): pass\n",
    "\n",
    "class mySubClass(myClass): # inheritance\n",
    "    def __init__(self, x):\n",
    "        super().__init__(x, x)\n",
    "    def f(self): pass # polymorphism"
   ]
  },
  {
   "cell_type": "code",
   "execution_count": null,
   "metadata": {},
   "outputs": [],
   "source": []
  }
 ],
 "metadata": {
  "kernelspec": {
   "display_name": "Python 3",
   "language": "python",
   "name": "python3"
  },
  "language_info": {
   "codemirror_mode": {
    "name": "ipython",
    "version": 3
   },
   "file_extension": ".py",
   "mimetype": "text/x-python",
   "name": "python",
   "nbconvert_exporter": "python",
   "pygments_lexer": "ipython3",
   "version": "3.8.5"
  }
 },
 "nbformat": 4,
 "nbformat_minor": 4
}
