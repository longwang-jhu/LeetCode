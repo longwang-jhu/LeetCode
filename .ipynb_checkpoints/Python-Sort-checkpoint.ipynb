{
 "cells": [
  {
   "cell_type": "markdown",
   "metadata": {},
   "source": [
    "# Quick Sort\n",
    "Divide and Conquer algorithm: O(n logn)\n",
    "- pick a pivot, make sure [left nums] < pivot < [right nums] by swapping\n",
    "- repeat on [left nums] and [right nums]"
   ]
  },
  {
   "cell_type": "code",
   "execution_count": null,
   "metadata": {},
   "outputs": [],
   "source": [
    "def partition(arr, low, high): \n",
    "    i = low - 1 # index of smaller element \n",
    "    pivot = arr[high] # pivot\n",
    "    for j in range(low, high):\n",
    "        if arr[j] <= pivot:  \n",
    "            i = i + 1\n",
    "            arr[i], arr[j] = arr[j], arr[i] # swap\n",
    "    arr[i+1], arr[high] = arr[high], arr[i+1] \n",
    "    return i + 1\n",
    "def quickSort(arr, low, high): \n",
    "    if len(arr) == 1: return arr\n",
    "    if low < high: \n",
    "        piv = partition(arr, low, high) \n",
    "        quickSort(arr, low, piv - 1) \n",
    "        quickSort(arr, piv + 1, high)\n",
    "\n",
    "arr = [10, 7, 8, 9, 1, 5]\n",
    "quickSort(arr, 0, len(arr) - 1)\n",
    "print(arr)"
   ]
  }
 ],
 "metadata": {
  "kernelspec": {
   "display_name": "Python 3",
   "language": "python",
   "name": "python3"
  },
  "language_info": {
   "codemirror_mode": {
    "name": "ipython",
    "version": 3
   },
   "file_extension": ".py",
   "mimetype": "text/x-python",
   "name": "python",
   "nbconvert_exporter": "python",
   "pygments_lexer": "ipython3",
   "version": "3.8.5"
  }
 },
 "nbformat": 4,
 "nbformat_minor": 4
}
